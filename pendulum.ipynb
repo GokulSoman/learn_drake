{
 "cells": [
  {
   "cell_type": "code",
   "execution_count": 10,
   "id": "80a4fddc-faf2-49af-a70d-f51505ef5242",
   "metadata": {},
   "outputs": [],
   "source": [
    "import numpy as np"
   ]
  },
  {
   "cell_type": "code",
   "execution_count": 1,
   "id": "0307c3eb-bf51-43cb-834c-f5db95c64e86",
   "metadata": {},
   "outputs": [],
   "source": [
    "# drake imports\n",
    "from pydrake.all import (\n",
    "    DiagramBuilder,\n",
    "    MeshcatVisualizer,\n",
    "    RigidTransform,\n",
    "    RotationMatrix,\n",
    "    SceneGraph,\n",
    "    Simulator,\n",
    "    StartMeshcat,\n",
    ")\n",
    "from pydrake.examples import PendulumGeometry, PendulumPlant"
   ]
  },
  {
   "cell_type": "code",
   "execution_count": 2,
   "id": "dcfc5090-126e-4d7e-9030-f3e2a4d859de",
   "metadata": {},
   "outputs": [],
   "source": [
    "from underactuated import running_as_notebook\n",
    "from underactuated.meshcat_utils import MeshcatSliders"
   ]
  },
  {
   "cell_type": "code",
   "execution_count": 3,
   "id": "9271902c-8d20-4053-8030-df88e985b14a",
   "metadata": {},
   "outputs": [
    {
     "name": "stderr",
     "output_type": "stream",
     "text": [
      "INFO:drake:Meshcat listening for connections at http://localhost:7000\n"
     ]
    }
   ],
   "source": [
    "meshcat = StartMeshcat()"
   ]
  },
  {
   "cell_type": "code",
   "execution_count": 6,
   "id": "e048b46f-b6f7-4b4e-8ed1-c988ccd236a4",
   "metadata": {},
   "outputs": [],
   "source": [
    "def pendulum_simulation():\n",
    "    builder = DiagramBuilder()\n",
    "    pendulum = builder.AddSystem(PendulumPlant())\n",
    "\n",
    "    # Visualization setup\n",
    "    scene_graph = builder.AddSystem(SceneGraph())\n",
    "    PendulumGeometry.AddToBuilder(builder, pendulum.get_state_output_port(), scene_graph)\n",
    "\n",
    "    MeshcatVisualizer.AddToBuilder(builder, scene_graph, meshcat)\n",
    "\n",
    "    meshcat.Delete()\n",
    "\n",
    "    meshcat.Set2dRenderMode(\n",
    "        X_WC=RigidTransform(RotationMatrix.MakeZRotation(np.pi), [0,1,0])\n",
    "    )\n",
    "\n",
    "    # set slider input\n",
    "    meshcat.AddSlider(\"u\", min=-5, max=5, step=0.1, value = 0.0)\n",
    "    torque_system = builder.AddSystem(MeshcatSliders(meshcat, [\"u\"]))\n",
    "    builder.Connect(torque_system.get_output_port(), pendulum.get_input_port())\n",
    "\n",
    "    diagram = builder.Build()\n",
    "\n",
    "    # set up simulator\n",
    "\n",
    "    simulator = Simulator(diagram)\n",
    "    context = simulator.get_mutable_context()\n",
    "\n",
    "    meshcat.AddButton(\"Stop Simulation\")\n",
    "\n",
    "    # set initial conditions\n",
    "    context.SetContinuousState([0.5,0]) # theta - angular pos., theta_dot - ang. vel.\n",
    "\n",
    "    if running_as_notebook:\n",
    "        simulator.set_target_realtime_rate(1.0)\n",
    "\n",
    "        print(\"Use slider to apply torque\")\n",
    "        print(\"Press stop simulation to stop\")\n",
    "        while meshcat.GetButtonClicks(\"Stop Simulation\") < 1:\n",
    "            simulator.AdvanceTo(simulator.get_context().get_time() + 1.0)\n",
    "    else:\n",
    "        simulator.AdvanceTo(0.1)\n",
    "\n",
    "    meshcat.DeleteAddedControls()\n",
    "    \n",
    "\n",
    "    \n",
    "    "
   ]
  },
  {
   "cell_type": "code",
   "execution_count": 5,
   "id": "3e353453-289e-492d-9865-a4652c6ebcee",
   "metadata": {},
   "outputs": [
    {
     "name": "stdout",
     "output_type": "stream",
     "text": [
      "Use slider to apply torque\n",
      "Press stop simulation to stop\n"
     ]
    }
   ],
   "source": [
    "pendulum_simulation()"
   ]
  },
  {
   "cell_type": "code",
   "execution_count": 9,
   "id": "e99cb57a-7d0e-41d3-a810-7c794ea177a3",
   "metadata": {},
   "outputs": [
    {
     "data": {
      "text/plain": [
       "RotationMatrix([\n",
       "  [-1.0, -1.2246467991473532e-16, 0.0],\n",
       "  [1.2246467991473532e-16, -1.0, 0.0],\n",
       "  [0.0, 0.0, 1.0],\n",
       "])"
      ]
     },
     "execution_count": 9,
     "metadata": {},
     "output_type": "execute_result"
    }
   ],
   "source": [
    "RotationMatrix.MakeZRotation(np.pi)"
   ]
  },
  {
   "cell_type": "code",
   "execution_count": null,
   "id": "92f8eb4c-a761-47ee-a53c-3e112d9d533a",
   "metadata": {},
   "outputs": [],
   "source": []
  }
 ],
 "metadata": {
  "kernelspec": {
   "display_name": "Python 3 (ipykernel)",
   "language": "python",
   "name": "python3"
  },
  "language_info": {
   "codemirror_mode": {
    "name": "ipython",
    "version": 3
   },
   "file_extension": ".py",
   "mimetype": "text/x-python",
   "name": "python",
   "nbconvert_exporter": "python",
   "pygments_lexer": "ipython3",
   "version": "3.8.10"
  }
 },
 "nbformat": 4,
 "nbformat_minor": 5
}
